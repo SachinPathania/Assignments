{
 "cells": [
  {
   "cell_type": "markdown",
   "metadata": {},
   "source": [
    "### SUPERMART SALES\n",
    "\n",
    "The growth of online supermarkets in most populated cities are increasing and market competitions are also high. Companies are leveraging sales data for forecasting demand as well as are investing heavily in analytics to understand customer behavior. One such organization, ABC Inc. is looking to get answers some of the business questions leveraging sales data from online portal.\n",
    "\n",
    "Details on data:\n",
    "\n",
    "Data consists of quarterly sales for year 2019 and quarter 1 (Jan-Mar). There are additional 2 tables for city and product mapping. \n",
    " \n",
    "Please answer following MCQ’s by performing high level analysis on data provided. \n"
   ]
  },
  {
   "cell_type": "code",
   "execution_count": 1,
   "metadata": {},
   "outputs": [],
   "source": [
    "import pandas as pd\n",
    "import numpy as np\n",
    "import seaborn as sns\n",
    "import matplotlib.pyplot as plt\n",
    "import warnings\n",
    "warnings.filterwarnings('ignore')"
   ]
  },
  {
   "cell_type": "code",
   "execution_count": 2,
   "metadata": {},
   "outputs": [],
   "source": [
    "df=pd.read_excel('supermarket_sales.xlsx')"
   ]
  },
  {
   "cell_type": "code",
   "execution_count": 3,
   "metadata": {},
   "outputs": [],
   "source": [
    "pd.set_option('display.max_columns', 100)\n",
    "pd.set_option('display.width', 1000)"
   ]
  },
  {
   "cell_type": "code",
   "execution_count": 4,
   "metadata": {},
   "outputs": [
    {
     "data": {
      "text/html": [
       "<div>\n",
       "<style scoped>\n",
       "    .dataframe tbody tr th:only-of-type {\n",
       "        vertical-align: middle;\n",
       "    }\n",
       "\n",
       "    .dataframe tbody tr th {\n",
       "        vertical-align: top;\n",
       "    }\n",
       "\n",
       "    .dataframe thead th {\n",
       "        text-align: right;\n",
       "    }\n",
       "</style>\n",
       "<table border=\"1\" class=\"dataframe\">\n",
       "  <thead>\n",
       "    <tr style=\"text-align: right;\">\n",
       "      <th></th>\n",
       "      <th>Invoice ID</th>\n",
       "      <th>Branch</th>\n",
       "      <th>city code</th>\n",
       "      <th>Customer type</th>\n",
       "      <th>Gender</th>\n",
       "      <th>Product code</th>\n",
       "      <th>Unit price</th>\n",
       "      <th>Quantity</th>\n",
       "      <th>Tax 5%</th>\n",
       "      <th>Total</th>\n",
       "      <th>Date</th>\n",
       "      <th>Time</th>\n",
       "      <th>Payment</th>\n",
       "      <th>cogs</th>\n",
       "      <th>gross margin percentage</th>\n",
       "      <th>gross income</th>\n",
       "      <th>Rating</th>\n",
       "    </tr>\n",
       "  </thead>\n",
       "  <tbody>\n",
       "    <tr>\n",
       "      <th>0</th>\n",
       "      <td>750-67-8428</td>\n",
       "      <td>A</td>\n",
       "      <td>CT1</td>\n",
       "      <td>Member</td>\n",
       "      <td>Female</td>\n",
       "      <td>PD1</td>\n",
       "      <td>74.69</td>\n",
       "      <td>7</td>\n",
       "      <td>26.1415</td>\n",
       "      <td>548.9715</td>\n",
       "      <td>2019-01-05</td>\n",
       "      <td>13:08:00</td>\n",
       "      <td>Ewallet</td>\n",
       "      <td>522.83</td>\n",
       "      <td>4.761905</td>\n",
       "      <td>26.1415</td>\n",
       "      <td>9.1</td>\n",
       "    </tr>\n",
       "    <tr>\n",
       "      <th>1</th>\n",
       "      <td>226-31-3081</td>\n",
       "      <td>C</td>\n",
       "      <td>CT3</td>\n",
       "      <td>Normal</td>\n",
       "      <td>Female</td>\n",
       "      <td>PD2</td>\n",
       "      <td>15.28</td>\n",
       "      <td>5</td>\n",
       "      <td>3.8200</td>\n",
       "      <td>80.2200</td>\n",
       "      <td>2019-03-08</td>\n",
       "      <td>10:29:00</td>\n",
       "      <td>Cash</td>\n",
       "      <td>76.40</td>\n",
       "      <td>4.761905</td>\n",
       "      <td>3.8200</td>\n",
       "      <td>9.6</td>\n",
       "    </tr>\n",
       "    <tr>\n",
       "      <th>2</th>\n",
       "      <td>631-41-3108</td>\n",
       "      <td>A</td>\n",
       "      <td>CT1</td>\n",
       "      <td>Normal</td>\n",
       "      <td>Male</td>\n",
       "      <td>PD3</td>\n",
       "      <td>46.33</td>\n",
       "      <td>7</td>\n",
       "      <td>16.2155</td>\n",
       "      <td>340.5255</td>\n",
       "      <td>2019-03-03</td>\n",
       "      <td>13:23:00</td>\n",
       "      <td>Credit card</td>\n",
       "      <td>324.31</td>\n",
       "      <td>4.761905</td>\n",
       "      <td>16.2155</td>\n",
       "      <td>7.4</td>\n",
       "    </tr>\n",
       "    <tr>\n",
       "      <th>3</th>\n",
       "      <td>123-19-1176</td>\n",
       "      <td>A</td>\n",
       "      <td>CT1</td>\n",
       "      <td>Member</td>\n",
       "      <td>Male</td>\n",
       "      <td>PD1</td>\n",
       "      <td>58.22</td>\n",
       "      <td>8</td>\n",
       "      <td>23.2880</td>\n",
       "      <td>489.0480</td>\n",
       "      <td>2019-01-27</td>\n",
       "      <td>20:33:00</td>\n",
       "      <td>Ewallet</td>\n",
       "      <td>465.76</td>\n",
       "      <td>4.761905</td>\n",
       "      <td>23.2880</td>\n",
       "      <td>8.4</td>\n",
       "    </tr>\n",
       "    <tr>\n",
       "      <th>4</th>\n",
       "      <td>373-73-7910</td>\n",
       "      <td>A</td>\n",
       "      <td>CT1</td>\n",
       "      <td>Normal</td>\n",
       "      <td>Male</td>\n",
       "      <td>PD4</td>\n",
       "      <td>86.31</td>\n",
       "      <td>7</td>\n",
       "      <td>30.2085</td>\n",
       "      <td>634.3785</td>\n",
       "      <td>2019-02-08</td>\n",
       "      <td>10:37:00</td>\n",
       "      <td>Ewallet</td>\n",
       "      <td>604.17</td>\n",
       "      <td>4.761905</td>\n",
       "      <td>30.2085</td>\n",
       "      <td>5.3</td>\n",
       "    </tr>\n",
       "  </tbody>\n",
       "</table>\n",
       "</div>"
      ],
      "text/plain": [
       "    Invoice ID Branch city code  Customer type  Gender Product code Unit price  Quantity   Tax 5%     Total       Date      Time      Payment    cogs  gross margin percentage  gross income  Rating\n",
       "0  750-67-8428      A        CT1        Member  Female          PD1      74.69         7  26.1415  548.9715 2019-01-05  13:08:00      Ewallet  522.83                 4.761905       26.1415     9.1\n",
       "1  226-31-3081      C        CT3        Normal  Female          PD2      15.28         5   3.8200   80.2200 2019-03-08  10:29:00         Cash   76.40                 4.761905        3.8200     9.6\n",
       "2  631-41-3108      A        CT1        Normal    Male          PD3      46.33         7  16.2155  340.5255 2019-03-03  13:23:00  Credit card  324.31                 4.761905       16.2155     7.4\n",
       "3  123-19-1176      A        CT1        Member    Male          PD1      58.22         8  23.2880  489.0480 2019-01-27  20:33:00      Ewallet  465.76                 4.761905       23.2880     8.4\n",
       "4  373-73-7910      A        CT1        Normal    Male          PD4      86.31         7  30.2085  634.3785 2019-02-08  10:37:00      Ewallet  604.17                 4.761905       30.2085     5.3"
      ]
     },
     "execution_count": 4,
     "metadata": {},
     "output_type": "execute_result"
    }
   ],
   "source": [
    "df.head()"
   ]
  },
  {
   "cell_type": "code",
   "execution_count": 5,
   "metadata": {},
   "outputs": [
    {
     "data": {
      "text/plain": [
       "(1000, 17)"
      ]
     },
     "execution_count": 5,
     "metadata": {},
     "output_type": "execute_result"
    }
   ],
   "source": [
    "df.shape"
   ]
  },
  {
   "cell_type": "code",
   "execution_count": 6,
   "metadata": {},
   "outputs": [
    {
     "name": "stdout",
     "output_type": "stream",
     "text": [
      "<class 'pandas.core.frame.DataFrame'>\n",
      "RangeIndex: 1000 entries, 0 to 999\n",
      "Data columns (total 17 columns):\n",
      " #   Column                   Non-Null Count  Dtype         \n",
      "---  ------                   --------------  -----         \n",
      " 0   Invoice ID               1000 non-null   object        \n",
      " 1   Branch                   1000 non-null   object        \n",
      " 2   city code                1000 non-null   object        \n",
      " 3   Customer type            1000 non-null   object        \n",
      " 4   Gender                   1000 non-null   object        \n",
      " 5   Product code             1000 non-null   object        \n",
      " 6   Unit price               996 non-null    object        \n",
      " 7   Quantity                 1000 non-null   int64         \n",
      " 8   Tax 5%                   1000 non-null   float64       \n",
      " 9   Total                    1000 non-null   float64       \n",
      " 10  Date                     1000 non-null   datetime64[ns]\n",
      " 11  Time                     1000 non-null   object        \n",
      " 12  Payment                  1000 non-null   object        \n",
      " 13  cogs                     1000 non-null   float64       \n",
      " 14  gross margin percentage  1000 non-null   float64       \n",
      " 15  gross income             1000 non-null   float64       \n",
      " 16  Rating                   993 non-null    float64       \n",
      "dtypes: datetime64[ns](1), float64(6), int64(1), object(9)\n",
      "memory usage: 132.9+ KB\n"
     ]
    }
   ],
   "source": [
    "df.info()"
   ]
  },
  {
   "cell_type": "code",
   "execution_count": 7,
   "metadata": {},
   "outputs": [
    {
     "data": {
      "text/html": [
       "<div>\n",
       "<style scoped>\n",
       "    .dataframe tbody tr th:only-of-type {\n",
       "        vertical-align: middle;\n",
       "    }\n",
       "\n",
       "    .dataframe tbody tr th {\n",
       "        vertical-align: top;\n",
       "    }\n",
       "\n",
       "    .dataframe thead th {\n",
       "        text-align: right;\n",
       "    }\n",
       "</style>\n",
       "<table border=\"1\" class=\"dataframe\">\n",
       "  <thead>\n",
       "    <tr style=\"text-align: right;\">\n",
       "      <th></th>\n",
       "      <th>count</th>\n",
       "      <th>mean</th>\n",
       "      <th>std</th>\n",
       "      <th>min</th>\n",
       "      <th>25%</th>\n",
       "      <th>50%</th>\n",
       "      <th>75%</th>\n",
       "      <th>max</th>\n",
       "    </tr>\n",
       "  </thead>\n",
       "  <tbody>\n",
       "    <tr>\n",
       "      <th>Quantity</th>\n",
       "      <td>1000.0</td>\n",
       "      <td>5.510000</td>\n",
       "      <td>2.923431e+00</td>\n",
       "      <td>1.000000</td>\n",
       "      <td>3.000000</td>\n",
       "      <td>5.000000</td>\n",
       "      <td>8.000000</td>\n",
       "      <td>10.000000</td>\n",
       "    </tr>\n",
       "    <tr>\n",
       "      <th>Tax 5%</th>\n",
       "      <td>1000.0</td>\n",
       "      <td>15.379369</td>\n",
       "      <td>1.170883e+01</td>\n",
       "      <td>0.508500</td>\n",
       "      <td>5.924875</td>\n",
       "      <td>12.088000</td>\n",
       "      <td>22.445250</td>\n",
       "      <td>49.650000</td>\n",
       "    </tr>\n",
       "    <tr>\n",
       "      <th>Total</th>\n",
       "      <td>1000.0</td>\n",
       "      <td>322.966749</td>\n",
       "      <td>2.458853e+02</td>\n",
       "      <td>10.678500</td>\n",
       "      <td>124.422375</td>\n",
       "      <td>253.848000</td>\n",
       "      <td>471.350250</td>\n",
       "      <td>1042.650000</td>\n",
       "    </tr>\n",
       "    <tr>\n",
       "      <th>cogs</th>\n",
       "      <td>1000.0</td>\n",
       "      <td>307.587380</td>\n",
       "      <td>2.341765e+02</td>\n",
       "      <td>10.170000</td>\n",
       "      <td>118.497500</td>\n",
       "      <td>241.760000</td>\n",
       "      <td>448.905000</td>\n",
       "      <td>993.000000</td>\n",
       "    </tr>\n",
       "    <tr>\n",
       "      <th>gross margin percentage</th>\n",
       "      <td>1000.0</td>\n",
       "      <td>4.761905</td>\n",
       "      <td>6.131498e-14</td>\n",
       "      <td>4.761905</td>\n",
       "      <td>4.761905</td>\n",
       "      <td>4.761905</td>\n",
       "      <td>4.761905</td>\n",
       "      <td>4.761905</td>\n",
       "    </tr>\n",
       "    <tr>\n",
       "      <th>gross income</th>\n",
       "      <td>1000.0</td>\n",
       "      <td>15.379369</td>\n",
       "      <td>1.170883e+01</td>\n",
       "      <td>0.508500</td>\n",
       "      <td>5.924875</td>\n",
       "      <td>12.088000</td>\n",
       "      <td>22.445250</td>\n",
       "      <td>49.650000</td>\n",
       "    </tr>\n",
       "    <tr>\n",
       "      <th>Rating</th>\n",
       "      <td>993.0</td>\n",
       "      <td>6.966163</td>\n",
       "      <td>1.719300e+00</td>\n",
       "      <td>4.000000</td>\n",
       "      <td>5.500000</td>\n",
       "      <td>6.900000</td>\n",
       "      <td>8.500000</td>\n",
       "      <td>10.000000</td>\n",
       "    </tr>\n",
       "  </tbody>\n",
       "</table>\n",
       "</div>"
      ],
      "text/plain": [
       "                          count        mean           std        min         25%         50%         75%          max\n",
       "Quantity                 1000.0    5.510000  2.923431e+00   1.000000    3.000000    5.000000    8.000000    10.000000\n",
       "Tax 5%                   1000.0   15.379369  1.170883e+01   0.508500    5.924875   12.088000   22.445250    49.650000\n",
       "Total                    1000.0  322.966749  2.458853e+02  10.678500  124.422375  253.848000  471.350250  1042.650000\n",
       "cogs                     1000.0  307.587380  2.341765e+02  10.170000  118.497500  241.760000  448.905000   993.000000\n",
       "gross margin percentage  1000.0    4.761905  6.131498e-14   4.761905    4.761905    4.761905    4.761905     4.761905\n",
       "gross income             1000.0   15.379369  1.170883e+01   0.508500    5.924875   12.088000   22.445250    49.650000\n",
       "Rating                    993.0    6.966163  1.719300e+00   4.000000    5.500000    6.900000    8.500000    10.000000"
      ]
     },
     "execution_count": 7,
     "metadata": {},
     "output_type": "execute_result"
    }
   ],
   "source": [
    "df.describe().T"
   ]
  },
  {
   "cell_type": "code",
   "execution_count": 8,
   "metadata": {
    "scrolled": true
   },
   "outputs": [
    {
     "data": {
      "text/plain": [
       "Invoice ID                 0\n",
       "Branch                     0\n",
       "city code                  0\n",
       "Customer type              0\n",
       "Gender                     0\n",
       "Product code               0\n",
       "Unit price                 4\n",
       "Quantity                   0\n",
       "Tax 5%                     0\n",
       "Total                      0\n",
       "Date                       0\n",
       "Time                       0\n",
       "Payment                    0\n",
       "cogs                       0\n",
       "gross margin percentage    0\n",
       "gross income               0\n",
       "Rating                     7\n",
       "dtype: int64"
      ]
     },
     "execution_count": 8,
     "metadata": {},
     "output_type": "execute_result"
    }
   ],
   "source": [
    "df.isnull().sum()"
   ]
  },
  {
   "cell_type": "code",
   "execution_count": 9,
   "metadata": {},
   "outputs": [],
   "source": [
    "df1=df.dropna()"
   ]
  },
  {
   "cell_type": "code",
   "execution_count": 10,
   "metadata": {},
   "outputs": [
    {
     "data": {
      "text/plain": [
       "Invoice ID                 0\n",
       "Branch                     0\n",
       "city code                  0\n",
       "Customer type              0\n",
       "Gender                     0\n",
       "Product code               0\n",
       "Unit price                 0\n",
       "Quantity                   0\n",
       "Tax 5%                     0\n",
       "Total                      0\n",
       "Date                       0\n",
       "Time                       0\n",
       "Payment                    0\n",
       "cogs                       0\n",
       "gross margin percentage    0\n",
       "gross income               0\n",
       "Rating                     0\n",
       "dtype: int64"
      ]
     },
     "execution_count": 10,
     "metadata": {},
     "output_type": "execute_result"
    }
   ],
   "source": [
    "df1.isnull().sum()"
   ]
  },
  {
   "cell_type": "code",
   "execution_count": 11,
   "metadata": {
    "scrolled": true
   },
   "outputs": [
    {
     "name": "stdout",
     "output_type": "stream",
     "text": [
      "Invoice ID 0\n",
      "Branch 0\n",
      "city code  0\n",
      "Customer type 0\n",
      "Gender 0\n",
      "Product code 0\n",
      "Unit price 5\n",
      "Time 0\n",
      "Payment 0\n"
     ]
    }
   ],
   "source": [
    "for i in df.columns:\n",
    "    if df[i].dtype == object:\n",
    "         print(i,df[i][df[i] == '-'].count())"
   ]
  },
  {
   "cell_type": "code",
   "execution_count": 12,
   "metadata": {},
   "outputs": [
    {
     "data": {
      "text/plain": [
       "array([74.69, 15.28, 46.33, 58.22, 86.31, 85.39, 68.84, 73.56, '-', 54.84,\n",
       "       14.48, 25.51, 46.95, 71.38, 93.72, 68.93, 72.61, 54.67, 40.3,\n",
       "       86.04, 87.98, 33.2, 34.56, 88.63, 52.59, 33.52, 87.67, 88.36,\n",
       "       24.89, 94.13, 78.07, 83.78, 96.58, 99.42, 68.12, 62.62, 60.88,\n",
       "       54.92, 30.12, 86.72, 56.11, 69.12, 98.7, 15.37, 93.96, 56.69,\n",
       "       20.01, 18.93, 82.63, 91.4, 44.59, 17.87, 15.43, '$', 85.98, 44.34,\n",
       "       89.6, 72.35, 30.61, 24.74, 55.73, 15.81, 75.74, 15.87, 33.47,\n",
       "       97.61, 78.77, 18.33, 89.48, 62.12, 48.52, 75.91, 74.67, 41.65,\n",
       "       49.04, 78.31, 20.38, 99.19, 96.68, 19.25, 80.36, 48.91, 83.06,\n",
       "       76.52, 49.38, 42.47, 76.99, 47.38, 44.86, 21.98, 64.36, 89.75,\n",
       "       97.16, 87.87, 12.45, 52.75, 82.7, 48.71, 78.55, 23.07, 58.26,\n",
       "       30.35, 88.67, 27.38, 62.13, 33.98, 81.97, 16.49, 98.21, 72.84,\n",
       "       58.07, 80.79, 27.02, 21.94, 51.36, 10.96, 53.44, 99.56, 57.12,\n",
       "       99.96, 63.91, 56.47, 93.69, 32.25, 31.73, 68.54, 90.28, 39.62,\n",
       "       92.13, 34.84, 87.45, 81.3, 90.22, 26.31, 34.42, 51.91, 72.5, 89.8,\n",
       "       90.5, 68.6, 30.41, 77.95, 46.26, 30.14, 66.14, 71.86, 32.46, 91.54,\n",
       "       83.24, 16.48, 80.97, 92.29, 72.17, 50.28, 97.22, 93.39, 43.18,\n",
       "       63.69, 45.79, 76.4, 39.9, 42.57, 95.58, 98.98, 51.28, 69.52, 70.01,\n",
       "       80.05, 20.85, 52.89, 19.79, 33.84, 22.17, 22.51, 73.88, 86.8,\n",
       "       64.26, 38.47, 15.5, 34.31, 12.34, 18.08, 94.49, 46.47, 74.07,\n",
       "       69.81, 77.04, 73.52, 87.8, 25.55, 32.71, 74.29, 43.7, 25.29, 41.5,\n",
       "       71.39, 19.15, 57.49, 61.41, 25.9, 17.77, 23.03, 66.65, 28.53,\n",
       "       30.37, 99.73, 26.23, 93.26, 92.36, 46.42, 29.61, 18.28, 94.64,\n",
       "       94.87, 57.34, 45.35, 62.08, 11.81, 12.54, 43.25, 87.16, 69.37,\n",
       "       37.06, 90.7, 63.42, 81.37, 10.59, 84.09, 73.82, 51.94, 93.14,\n",
       "       17.41, 44.22, 13.22, 89.69, 24.94, 59.77, 93.2, 62.65, 93.87,\n",
       "       47.59, 81.4, 17.94, 77.72, 73.06, 46.55, 35.19, 14.39, 23.75, 58.9,\n",
       "       32.62, 66.35, 25.91, 65.94, 75.06, 16.45, 38.3, 22.24, 54.45, 98.4,\n",
       "       35.47, 74.6, 70.74, 35.54, 67.43, 21.12, 21.54, 12.03, 99.71,\n",
       "       47.97, 21.82, 95.42, 70.99, 44.02, 69.96, 37, 15.34, 99.83, 47.67,\n",
       "       66.68, 74.86, 48.51, 94.88, 27.85, 62.48, 36.36, 18.11, 51.92,\n",
       "       28.84, 78.38, 60.01, 88.61, 99.82, 39.01, 48.61, 51.19, 14.96,\n",
       "       72.2, 40.23, 88.79, 26.48, 81.91, 79.93, 69.33, 14.23, 15.55,\n",
       "       78.13, 99.37, 21.08, 74.79, 29.67, 44.07, 22.93, 39.42, 15.26,\n",
       "       61.77, 21.52, 97.74, 99.78, 94.26, 51.13, 22.02, 32.9, 77.02,\n",
       "       23.48, 14.7, 28.45, 57.95, 47.65, 42.82, 48.09, 55.97, 76.9, 97.03,\n",
       "       44.65, 77.93, 71.95, 89.25, 26.02, 13.5, 99.3, 51.69, 54.73, 27,\n",
       "       30.24, 89.14, 37.55, 95.44, 27.5, 74.97, 80.96, 94.47, 99.79,\n",
       "       73.22, 41.24, 81.68, 51.32, 14.36, 21.5, 26.26, 60.96, 70.11,\n",
       "       42.08, 67.09, 96.7, 35.38, 95.49, 96.98, 23.65, 82.33, 26.61,\n",
       "       99.69, 74.89, 40.94, 75.82, 46.77, 32.32, 54.07, 18.22, 80.48,\n",
       "       37.95, 52.26, 79.74, 77.5, 54.27, 13.59, 41.06, 19.24, 39.43,\n",
       "       46.22, 13.98, 39.75, 97.79, 67.26, 13.79, 68.71, 56.53, 23.82,\n",
       "       34.21, 21.87, 20.97, 25.84, 50.93, 96.11, 45.38, 81.51, 57.22,\n",
       "       25.22, 38.6, 84.05, 97.21, 25.42, 16.28, 40.61, 53.17, 20.87,\n",
       "       67.27, 90.65, 69.08, 43.27, 23.46, 95.54, 47.44, 99.24, 82.93,\n",
       "       33.99, 17.04, 40.86, 17.44, 88.43, 89.21, 12.78, 19.1, 27.66,\n",
       "       45.74, 27.07, 39.12, 74.71, 22.01, 63.61, 25, 20.77, 29.56, 77.4,\n",
       "       79.39, 46.57, 35.89, 40.52, 73.05, 73.95, 22.62, 51.34, 54.55,\n",
       "       37.15, 37.02, 21.58, 98.84, 83.77, 40.05, 43.13, 72.57, 64.44,\n",
       "       65.18, 33.26, 84.07, 34.37, 65.97, 32.8, 37.14, 60.38, 36.98,\n",
       "       49.49, 41.09, 22.96, 77.68, 34.7, 19.66, 25.32, 12.12, 99.89,\n",
       "       75.92, 63.22, 90.24, 98.13, 51.52, 73.97, 31.9, 69.4, 93.31, 88.45,\n",
       "       24.18, 48.5, 61.29, 15.95, 90.74, 42.91, 54.28, 99.55, 58.39,\n",
       "       51.47, 54.86, 39.39, 34.73, 71.92, 45.71, 83.17, 37.44, 62.87,\n",
       "       91.41, 39.21, 59.86, 54.36, 98.09, 25.43, 86.68, 22.95, 16.31,\n",
       "       28.32, 16.67, 73.96, 97.94, 87.48, 30.68, 75.88, 20.18, 18.77,\n",
       "       71.2, 38.81, 29.42, 60.95, 51.54, 66.06, 57.27, 54.31, 58.24,\n",
       "       22.21, 19.32, 37.48, 72.04, 98.52, 41.66, 72.42, 89.2, 42.42,\n",
       "       74.51, 99.25, 81.21, 49.33, 65.74, 79.86, 73.98, 82.04, 26.67,\n",
       "       10.13, 72.39, 85.91, 81.31, 60.3, 31.77, 64.27, 69.51, 27.22,\n",
       "       92.98, 63.06, 51.71, 52.34, 43.06, 59.61, 14.62, 46.53, 24.24,\n",
       "       45.58, 75.2, 96.8, 14.82, 52.2, 46.66, 36.85, 70.32, 83.08, 64.99,\n",
       "       77.56, 54.51, 51.89, 31.75, 53.65, 49.79, 57.89, 28.96, 98.97,\n",
       "       93.22, 80.93, 67.45, 38.72, 72.6, 87.91, 98.53, 43.46, 71.68,\n",
       "       91.61, 94.59, 83.25, 91.35, 78.88, 60.87, 82.58, 53.3, 12.09,\n",
       "       64.19, 99.7, 79.91, 66.47, 28.95, 46.2, 17.63, 52.42, 98.79, 88.55,\n",
       "       55.67, 72.52, 12.05, 19.36, 70.21, 33.63, 15.49, 75.66, 55.81,\n",
       "       72.78, 37.32, 60.18, 15.69, 88.15, 27.93, 55.45, 42.97, 17.14,\n",
       "       58.75, 87.1, 98.8, 48.63, 57.74, 17.97, 47.71, 40.62, 56.04, 93.4,\n",
       "       73.41, 33.64, 45.48, 64.08, 73.47, 39.48, 34.81, 49.32, 21.48,\n",
       "       23.08, 49.1, 64.83, 63.56, 72.88, 67.1, 70.19, 55.04, 73.38, 52.6,\n",
       "       87.37, 27.04, 62.19, 69.58, 97.5, 60.41, 19.77, 80.47, 88.39,\n",
       "       71.77, 43, 68.98, 15.62, 25.7, 80.62, 75.53, 77.63, 13.85, 35.68,\n",
       "       71.46, 11.94, 17.48, 25.56, 90.63, 44.12, 36.77, 23.34, 28.5,\n",
       "       55.57, 69.74, 97.26, 52.18, 22.32, 56, 19.7, 53.72, 81.95, 81.2,\n",
       "       58.76, 91.56, 55.61, 84.83, 71.63, 37.69, 31.67, 38.42, 65.23,\n",
       "       10.53, 12.29, 81.23, 27.28, 17.42, 73.28, 84.87, 97.29, 35.74,\n",
       "       96.52, 18.85, 55.39, 77.2, 72.13, 63.88, 10.69, 55.5, 95.46, 76.06,\n",
       "       13.69, 95.64, 11.43, 85.87, 67.99, 65.65, 28.86, 65.31, 93.38,\n",
       "       25.25, 94.76, 30.62, 44.01, 10.16, 74.58, 71.89, 10.99, 60.47,\n",
       "       58.91, 46.41, 68.55, 97.37, 92.6, 46.61, 27.18, 24.49, 92.78,\n",
       "       86.69, 23.01, 30.2, 67.39, 48.96, 75.59, 77.47, 93.18, 50.23,\n",
       "       17.75, 62.18, 10.75, 40.26, 64.97, 95.15, 48.62, 53.21, 45.44,\n",
       "       33.88, 96.16, 47.16, 47.68, 10.17, 60.08, 72.11, 41.28, 64.95,\n",
       "       10.56, 62.57, 11.85, 91.3, 40.73, 52.38, 38.54, 44.63, 55.87,\n",
       "       29.22, 39.47, 14.87, 21.32, 93.78, 73.26, 22.38, 99.1, 74.1, 98.48,\n",
       "       52.79, 95.95, 36.51, 28.31, 57.59, 47.63, 86.27, 12.76, 11.28,\n",
       "       51.07, 79.59, 33.81, 90.53, 62.82, 24.31, 64.59, 24.82, 56.5,\n",
       "       21.43, 89.06, 23.29, 65.26, 90.02, 12.1, 33.21, 10.18, 31.99,\n",
       "       83.34, 87.9, 12.19, 76.92, 83.66, 57.91, 92.49, 28.38, 50.45,\n",
       "       99.16, 60.74, 47.27, 35.04, 44.84, 45.97, 11.53, 58.32, 84.61,\n",
       "       82.88, 79.54, 49.01, 29.15, 56.13, 93.12, 99.6, 35.49, 42.85,\n",
       "       94.67, 68.97, 16.37, 12.73, 83.14, 35.22, 13.78, 88.31, 88.25,\n",
       "       25.31, 99.92, 83.35, 74.44, 63.15, 85.72, 78.89, 92.09, 57.29,\n",
       "       66.52, 45.68, 50.79, 10.08, 93.88, 84.25, 53.78, 35.81, 26.43,\n",
       "       21.9, 62.85, 21.04, 65.91, 50.49, 46.02, 15.8, 98.66, 91.98, 20.89,\n",
       "       96.82, 33.33, 38.27, 33.3, 34.49, 84.63, 36.91, 87.08, 80.08,\n",
       "       86.13, 49.92, 74.66, 26.6, 25.45, 67.77, 59.59, 'o', 97.48, 96.37,\n",
       "       63.71, 14.76, 62, 82.34, 75.37, 56.56, 76.6, 58.03, 17.49, 40.35,\n",
       "       97.38, 31.84, 65.82, 88.34], dtype=object)"
      ]
     },
     "execution_count": 12,
     "metadata": {},
     "output_type": "execute_result"
    }
   ],
   "source": [
    "df1['Unit price'].unique()"
   ]
  },
  {
   "cell_type": "code",
   "execution_count": 13,
   "metadata": {},
   "outputs": [],
   "source": [
    "df['Unit price'].replace({'-':np.nan,'$':np.nan,'o':np.nan},inplace=True)"
   ]
  },
  {
   "cell_type": "code",
   "execution_count": 14,
   "metadata": {},
   "outputs": [
    {
     "data": {
      "text/plain": [
       "932"
      ]
     },
     "execution_count": 14,
     "metadata": {},
     "output_type": "execute_result"
    }
   ],
   "source": [
    "df['Unit price'].nunique()"
   ]
  },
  {
   "cell_type": "code",
   "execution_count": 15,
   "metadata": {},
   "outputs": [
    {
     "data": {
      "text/plain": [
       "12"
      ]
     },
     "execution_count": 15,
     "metadata": {},
     "output_type": "execute_result"
    }
   ],
   "source": [
    "df['Unit price'].isnull().sum()"
   ]
  },
  {
   "cell_type": "code",
   "execution_count": 16,
   "metadata": {},
   "outputs": [
    {
     "data": {
      "text/plain": [
       "<AxesSubplot:xlabel='Unit price', ylabel='Density'>"
      ]
     },
     "execution_count": 16,
     "metadata": {},
     "output_type": "execute_result"
    },
    {
     "data": {
      "image/png": "[encoded data removed]",
      "text/plain": [
       "<Figure size 432x288 with 1 Axes>"
      ]
     },
     "metadata": {
      "needs_background": "light"
     },
     "output_type": "display_data"
    }
   ],
   "source": [
    "sns.distplot(df['Unit price'])"
   ]
  },
  {
   "cell_type": "code",
   "execution_count": 17,
   "metadata": {},
   "outputs": [],
   "source": [
    "df['Unit price'].fillna(df['Unit price'].mean(),inplace=True)"
   ]
  },
  {
   "cell_type": "code",
   "execution_count": 18,
   "metadata": {},
   "outputs": [
    {
     "data": {
      "text/plain": [
       "0"
      ]
     },
     "execution_count": 18,
     "metadata": {},
     "output_type": "execute_result"
    }
   ],
   "source": [
    "df['Unit price'].isnull().sum()"
   ]
  },
  {
   "cell_type": "code",
   "execution_count": 19,
   "metadata": {
    "scrolled": true
   },
   "outputs": [
    {
     "data": {
      "text/plain": [
       "Invoice ID                 0\n",
       "Branch                     0\n",
       "city code                  0\n",
       "Customer type              0\n",
       "Gender                     0\n",
       "Product code               0\n",
       "Unit price                 0\n",
       "Quantity                   0\n",
       "Tax 5%                     0\n",
       "Total                      0\n",
       "Date                       0\n",
       "Time                       0\n",
       "Payment                    0\n",
       "cogs                       0\n",
       "gross margin percentage    0\n",
       "gross income               0\n",
       "Rating                     7\n",
       "dtype: int64"
      ]
     },
     "execution_count": 19,
     "metadata": {},
     "output_type": "execute_result"
    }
   ],
   "source": [
    "df.isnull().sum()"
   ]
  },
  {
   "cell_type": "code",
   "execution_count": 20,
   "metadata": {},
   "outputs": [
    {
     "data": {
      "text/plain": [
       "dtype('float64')"
      ]
     },
     "execution_count": 20,
     "metadata": {},
     "output_type": "execute_result"
    }
   ],
   "source": [
    "df['Unit price'].dtype"
   ]
  },
  {
   "cell_type": "code",
   "execution_count": 21,
   "metadata": {},
   "outputs": [
    {
     "name": "stdout",
     "output_type": "stream",
     "text": [
      "<class 'pandas.core.frame.DataFrame'>\n",
      "RangeIndex: 1000 entries, 0 to 999\n",
      "Data columns (total 17 columns):\n",
      " #   Column                   Non-Null Count  Dtype         \n",
      "---  ------                   --------------  -----         \n",
      " 0   Invoice ID               1000 non-null   object        \n",
      " 1   Branch                   1000 non-null   object        \n",
      " 2   city code                1000 non-null   object        \n",
      " 3   Customer type            1000 non-null   object        \n",
      " 4   Gender                   1000 non-null   object        \n",
      " 5   Product code             1000 non-null   object        \n",
      " 6   Unit price               1000 non-null   float64       \n",
      " 7   Quantity                 1000 non-null   int64         \n",
      " 8   Tax 5%                   1000 non-null   float64       \n",
      " 9   Total                    1000 non-null   float64       \n",
      " 10  Date                     1000 non-null   datetime64[ns]\n",
      " 11  Time                     1000 non-null   object        \n",
      " 12  Payment                  1000 non-null   object        \n",
      " 13  cogs                     1000 non-null   float64       \n",
      " 14  gross margin percentage  1000 non-null   float64       \n",
      " 15  gross income             1000 non-null   float64       \n",
      " 16  Rating                   993 non-null    float64       \n",
      "dtypes: datetime64[ns](1), float64(7), int64(1), object(8)\n",
      "memory usage: 132.9+ KB\n"
     ]
    }
   ],
   "source": [
    "df.info()"
   ]
  },
  {
   "cell_type": "code",
   "execution_count": 22,
   "metadata": {},
   "outputs": [
    {
     "data": {
      "text/plain": [
       "array([ 9.1,  9.6,  7.4,  8.4,  5.3,  4.1,  5.8,  8. ,  7.2,  5.9,  4.5,\n",
       "        6.8,  7.1,  nan,  5.7,  4.6,  6.9,  8.6,  4.4,  4.8,  5.1,  9.9,\n",
       "        6. ,  8.5,  6.7,  7.7,  7.5,  7. ,  4.7,  7.6,  7.9,  6.3,  5.6,\n",
       "        9.5,  8.1,  6.5,  6.1,  8.2,  6.6,  5.4,  9.3, 10. ,  6.4,  4.3,\n",
       "        4. ,  8.7,  9.4,  5.5,  8.3,  7.3,  4.9,  4.2,  9.2,  7.8,  5.2,\n",
       "        9. ,  8.8,  6.2,  9.8,  9.7,  5. ,  8.9])"
      ]
     },
     "execution_count": 22,
     "metadata": {},
     "output_type": "execute_result"
    }
   ],
   "source": [
    "df['Rating'].unique()"
   ]
  },
  {
   "cell_type": "code",
   "execution_count": 23,
   "metadata": {},
   "outputs": [
    {
     "data": {
      "text/plain": [
       "<AxesSubplot:xlabel='Rating', ylabel='Density'>"
      ]
     },
     "execution_count": 23,
     "metadata": {},
     "output_type": "execute_result"
    },
    {
     "data": {
      "image/png": "[encoded data removed]",
      "text/plain": [
       "<Figure size 432x288 with 1 Axes>"
      ]
     },
     "metadata": {
      "needs_background": "light"
     },
     "output_type": "display_data"
    }
   ],
   "source": [
    "sns.distplot(df['Rating'])"
   ]
  },
  {
   "cell_type": "code",
   "execution_count": 24,
   "metadata": {},
   "outputs": [
    {
     "data": {
      "text/plain": [
       "0.014329209449532133"
      ]
     },
     "execution_count": 24,
     "metadata": {},
     "output_type": "execute_result"
    }
   ],
   "source": [
    "df['Rating'].skew()"
   ]
  },
  {
   "cell_type": "code",
   "execution_count": 25,
   "metadata": {},
   "outputs": [],
   "source": [
    "df['Rating'].fillna(df['Rating'].mean(),inplace=True)"
   ]
  },
  {
   "cell_type": "code",
   "execution_count": 26,
   "metadata": {},
   "outputs": [
    {
     "data": {
      "text/html": [
       "<div>\n",
       "<style scoped>\n",
       "    .dataframe tbody tr th:only-of-type {\n",
       "        vertical-align: middle;\n",
       "    }\n",
       "\n",
       "    .dataframe tbody tr th {\n",
       "        vertical-align: top;\n",
       "    }\n",
       "\n",
       "    .dataframe thead th {\n",
       "        text-align: right;\n",
       "    }\n",
       "</style>\n",
       "<table border=\"1\" class=\"dataframe\">\n",
       "  <thead>\n",
       "    <tr style=\"text-align: right;\">\n",
       "      <th></th>\n",
       "      <th>Invoice ID</th>\n",
       "      <th>Branch</th>\n",
       "      <th>city code</th>\n",
       "      <th>Customer type</th>\n",
       "      <th>Gender</th>\n",
       "      <th>Product code</th>\n",
       "      <th>Unit price</th>\n",
       "      <th>Quantity</th>\n",
       "      <th>Tax 5%</th>\n",
       "      <th>Total</th>\n",
       "      <th>Date</th>\n",
       "      <th>Time</th>\n",
       "      <th>Payment</th>\n",
       "      <th>cogs</th>\n",
       "      <th>gross margin percentage</th>\n",
       "      <th>gross income</th>\n",
       "      <th>Rating</th>\n",
       "    </tr>\n",
       "  </thead>\n",
       "  <tbody>\n",
       "    <tr>\n",
       "      <th>0</th>\n",
       "      <td>750-67-8428</td>\n",
       "      <td>A</td>\n",
       "      <td>CT1</td>\n",
       "      <td>Member</td>\n",
       "      <td>Female</td>\n",
       "      <td>PD1</td>\n",
       "      <td>74.69</td>\n",
       "      <td>7</td>\n",
       "      <td>26.1415</td>\n",
       "      <td>548.9715</td>\n",
       "      <td>2019-01-05</td>\n",
       "      <td>13:08:00</td>\n",
       "      <td>Ewallet</td>\n",
       "      <td>522.83</td>\n",
       "      <td>4.761905</td>\n",
       "      <td>26.1415</td>\n",
       "      <td>9.1</td>\n",
       "    </tr>\n",
       "    <tr>\n",
       "      <th>1</th>\n",
       "      <td>226-31-3081</td>\n",
       "      <td>C</td>\n",
       "      <td>CT3</td>\n",
       "      <td>Normal</td>\n",
       "      <td>Female</td>\n",
       "      <td>PD2</td>\n",
       "      <td>15.28</td>\n",
       "      <td>5</td>\n",
       "      <td>3.8200</td>\n",
       "      <td>80.2200</td>\n",
       "      <td>2019-03-08</td>\n",
       "      <td>10:29:00</td>\n",
       "      <td>Cash</td>\n",
       "      <td>76.40</td>\n",
       "      <td>4.761905</td>\n",
       "      <td>3.8200</td>\n",
       "      <td>9.6</td>\n",
       "    </tr>\n",
       "    <tr>\n",
       "      <th>2</th>\n",
       "      <td>631-41-3108</td>\n",
       "      <td>A</td>\n",
       "      <td>CT1</td>\n",
       "      <td>Normal</td>\n",
       "      <td>Male</td>\n",
       "      <td>PD3</td>\n",
       "      <td>46.33</td>\n",
       "      <td>7</td>\n",
       "      <td>16.2155</td>\n",
       "      <td>340.5255</td>\n",
       "      <td>2019-03-03</td>\n",
       "      <td>13:23:00</td>\n",
       "      <td>Credit card</td>\n",
       "      <td>324.31</td>\n",
       "      <td>4.761905</td>\n",
       "      <td>16.2155</td>\n",
       "      <td>7.4</td>\n",
       "    </tr>\n",
       "    <tr>\n",
       "      <th>3</th>\n",
       "      <td>123-19-1176</td>\n",
       "      <td>A</td>\n",
       "      <td>CT1</td>\n",
       "      <td>Member</td>\n",
       "      <td>Male</td>\n",
       "      <td>PD1</td>\n",
       "      <td>58.22</td>\n",
       "      <td>8</td>\n",
       "      <td>23.2880</td>\n",
       "      <td>489.0480</td>\n",
       "      <td>2019-01-27</td>\n",
       "      <td>20:33:00</td>\n",
       "      <td>Ewallet</td>\n",
       "      <td>465.76</td>\n",
       "      <td>4.761905</td>\n",
       "      <td>23.2880</td>\n",
       "      <td>8.4</td>\n",
       "    </tr>\n",
       "    <tr>\n",
       "      <th>4</th>\n",
       "      <td>373-73-7910</td>\n",
       "      <td>A</td>\n",
       "      <td>CT1</td>\n",
       "      <td>Normal</td>\n",
       "      <td>Male</td>\n",
       "      <td>PD4</td>\n",
       "      <td>86.31</td>\n",
       "      <td>7</td>\n",
       "      <td>30.2085</td>\n",
       "      <td>634.3785</td>\n",
       "      <td>2019-02-08</td>\n",
       "      <td>10:37:00</td>\n",
       "      <td>Ewallet</td>\n",
       "      <td>604.17</td>\n",
       "      <td>4.761905</td>\n",
       "      <td>30.2085</td>\n",
       "      <td>5.3</td>\n",
       "    </tr>\n",
       "  </tbody>\n",
       "</table>\n",
       "</div>"
      ],
      "text/plain": [
       "    Invoice ID Branch city code  Customer type  Gender Product code  Unit price  Quantity   Tax 5%     Total       Date      Time      Payment    cogs  gross margin percentage  gross income  Rating\n",
       "0  750-67-8428      A        CT1        Member  Female          PD1       74.69         7  26.1415  548.9715 2019-01-05  13:08:00      Ewallet  522.83                 4.761905       26.1415     9.1\n",
       "1  226-31-3081      C        CT3        Normal  Female          PD2       15.28         5   3.8200   80.2200 2019-03-08  10:29:00         Cash   76.40                 4.761905        3.8200     9.6\n",
       "2  631-41-3108      A        CT1        Normal    Male          PD3       46.33         7  16.2155  340.5255 2019-03-03  13:23:00  Credit card  324.31                 4.761905       16.2155     7.4\n",
       "3  123-19-1176      A        CT1        Member    Male          PD1       58.22         8  23.2880  489.0480 2019-01-27  20:33:00      Ewallet  465.76                 4.761905       23.2880     8.4\n",
       "4  373-73-7910      A        CT1        Normal    Male          PD4       86.31         7  30.2085  634.3785 2019-02-08  10:37:00      Ewallet  604.17                 4.761905       30.2085     5.3"
      ]
     },
     "execution_count": 26,
     "metadata": {},
     "output_type": "execute_result"
    }
   ],
   "source": [
    "df.head()"
   ]
  },
  {
   "cell_type": "code",
   "execution_count": 27,
   "metadata": {},
   "outputs": [
    {
     "name": "stdout",
     "output_type": "stream",
     "text": [
      "<class 'pandas.core.frame.DataFrame'>\n",
      "RangeIndex: 1000 entries, 0 to 999\n",
      "Data columns (total 17 columns):\n",
      " #   Column                   Non-Null Count  Dtype         \n",
      "---  ------                   --------------  -----         \n",
      " 0   Invoice ID               1000 non-null   object        \n",
      " 1   Branch                   1000 non-null   object        \n",
      " 2   city code                1000 non-null   object        \n",
      " 3   Customer type            1000 non-null   object        \n",
      " 4   Gender                   1000 non-null   object        \n",
      " 5   Product code             1000 non-null   object        \n",
      " 6   Unit price               1000 non-null   float64       \n",
      " 7   Quantity                 1000 non-null   int64         \n",
      " 8   Tax 5%                   1000 non-null   float64       \n",
      " 9   Total                    1000 non-null   float64       \n",
      " 10  Date                     1000 non-null   datetime64[ns]\n",
      " 11  Time                     1000 non-null   object        \n",
      " 12  Payment                  1000 non-null   object        \n",
      " 13  cogs                     1000 non-null   float64       \n",
      " 14  gross margin percentage  1000 non-null   float64       \n",
      " 15  gross income             1000 non-null   float64       \n",
      " 16  Rating                   1000 non-null   float64       \n",
      "dtypes: datetime64[ns](1), float64(7), int64(1), object(8)\n",
      "memory usage: 132.9+ KB\n"
     ]
    }
   ],
   "source": [
    "df.info()"
   ]
  },
  {
   "cell_type": "code",
   "execution_count": 28,
   "metadata": {},
   "outputs": [
    {
     "data": {
      "text/plain": [
       "Invoice ID                 0\n",
       "Branch                     0\n",
       "city code                  0\n",
       "Customer type              0\n",
       "Gender                     0\n",
       "Product code               0\n",
       "Unit price                 0\n",
       "Quantity                   0\n",
       "Tax 5%                     0\n",
       "Total                      0\n",
       "Date                       0\n",
       "Time                       0\n",
       "Payment                    0\n",
       "cogs                       0\n",
       "gross margin percentage    0\n",
       "gross income               0\n",
       "Rating                     0\n",
       "dtype: int64"
      ]
     },
     "execution_count": 28,
     "metadata": {},
     "output_type": "execute_result"
    }
   ],
   "source": [
    "df.isnull().sum()"
   ]
  },
  {
   "cell_type": "markdown",
   "metadata": {},
   "source": [
    "##### •\tWhich city saw maximum total sales in Jan-Feb month of 2019?\n",
    "1.\tMandalay \n",
    "2.\tNaypyitaw  \n",
    "3.\tYangon\n",
    "4.\tNone of the above\n"
   ]
  },
  {
   "cell_type": "code",
   "execution_count": 49,
   "metadata": {
    "scrolled": true
   },
   "outputs": [
    {
     "data": {
      "text/html": [
       "<div>\n",
       "<style scoped>\n",
       "    .dataframe tbody tr th:only-of-type {\n",
       "        vertical-align: middle;\n",
       "    }\n",
       "\n",
       "    .dataframe tbody tr th {\n",
       "        vertical-align: top;\n",
       "    }\n",
       "\n",
       "    .dataframe thead th {\n",
       "        text-align: right;\n",
       "    }\n",
       "</style>\n",
       "<table border=\"1\" class=\"dataframe\">\n",
       "  <thead>\n",
       "    <tr style=\"text-align: right;\">\n",
       "      <th></th>\n",
       "      <th>Invoice ID</th>\n",
       "      <th>Branch</th>\n",
       "      <th>city code</th>\n",
       "      <th>Customer type</th>\n",
       "      <th>Gender</th>\n",
       "      <th>Product code</th>\n",
       "      <th>Unit price</th>\n",
       "      <th>Quantity</th>\n",
       "      <th>Tax 5%</th>\n",
       "      <th>Total</th>\n",
       "      <th>Date</th>\n",
       "      <th>Time</th>\n",
       "      <th>Payment</th>\n",
       "      <th>cogs</th>\n",
       "      <th>gross margin percentage</th>\n",
       "      <th>gross income</th>\n",
       "      <th>Rating</th>\n",
       "      <th>Weekday</th>\n",
       "    </tr>\n",
       "  </thead>\n",
       "  <tbody>\n",
       "    <tr>\n",
       "      <th>0</th>\n",
       "      <td>750-67-8428</td>\n",
       "      <td>A</td>\n",
       "      <td>CT1</td>\n",
       "      <td>Member</td>\n",
       "      <td>Female</td>\n",
       "      <td>PD1</td>\n",
       "      <td>74.69</td>\n",
       "      <td>7</td>\n",
       "      <td>26.1415</td>\n",
       "      <td>548.9715</td>\n",
       "      <td>2019-01-05</td>\n",
       "      <td>13:08:00</td>\n",
       "      <td>Ewallet</td>\n",
       "      <td>522.83</td>\n",
       "      <td>4.761905</td>\n",
       "      <td>26.1415</td>\n",
       "      <td>9.1</td>\n",
       "      <td>Saturday</td>\n",
       "    </tr>\n",
       "    <tr>\n",
       "      <th>1</th>\n",
       "      <td>226-31-3081</td>\n",
       "      <td>C</td>\n",
       "      <td>CT3</td>\n",
       "      <td>Normal</td>\n",
       "      <td>Female</td>\n",
       "      <td>PD2</td>\n",
       "      <td>15.28</td>\n",
       "      <td>5</td>\n",
       "      <td>3.8200</td>\n",
       "      <td>80.2200</td>\n",
       "      <td>2019-03-08</td>\n",
       "      <td>10:29:00</td>\n",
       "      <td>Cash</td>\n",
       "      <td>76.40</td>\n",
       "      <td>4.761905</td>\n",
       "      <td>3.8200</td>\n",
       "      <td>9.6</td>\n",
       "      <td>Friday</td>\n",
       "    </tr>\n",
       "  </tbody>\n",
       "</table>\n",
       "</div>"
      ],
      "text/plain": [
       "    Invoice ID Branch city code  Customer type  Gender Product code  Unit price  Quantity   Tax 5%     Total       Date      Time  Payment    cogs  gross margin percentage  gross income  Rating   Weekday\n",
       "0  750-67-8428      A        CT1        Member  Female          PD1       74.69         7  26.1415  548.9715 2019-01-05  13:08:00  Ewallet  522.83                 4.761905       26.1415     9.1  Saturday\n",
       "1  226-31-3081      C        CT3        Normal  Female          PD2       15.28         5   3.8200   80.2200 2019-03-08  10:29:00     Cash   76.40                 4.761905        3.8200     9.6    Friday"
      ]
     },
     "execution_count": 49,
     "metadata": {},
     "output_type": "execute_result"
    }
   ],
   "source": [
    "df.head(2)"
   ]
  },
  {
   "cell_type": "code",
   "execution_count": 30,
   "metadata": {},
   "outputs": [
    {
     "data": {
      "text/plain": [
       "Index(['Invoice ID', 'Branch', 'city code ', 'Customer type', 'Gender', 'Product code', 'Unit price', 'Quantity', 'Tax 5%', 'Total', 'Date', 'Time', 'Payment', 'cogs', 'gross margin percentage', 'gross income', 'Rating'], dtype='object')"
      ]
     },
     "execution_count": 30,
     "metadata": {},
     "output_type": "execute_result"
    }
   ],
   "source": [
    "df.columns"
   ]
  },
  {
   "cell_type": "code",
   "execution_count": 31,
   "metadata": {},
   "outputs": [
    {
     "data": {
      "text/plain": [
       "CT1    340\n",
       "CT9    332\n",
       "CT3    328\n",
       "Name: city code , dtype: int64"
      ]
     },
     "execution_count": 31,
     "metadata": {},
     "output_type": "execute_result"
    }
   ],
   "source": [
    "df['city code '].value_counts()"
   ]
  },
  {
   "cell_type": "code",
   "execution_count": 54,
   "metadata": {},
   "outputs": [],
   "source": [
    "df['month']=df['Date'].dt.month_name()"
   ]
  },
  {
   "cell_type": "code",
   "execution_count": 55,
   "metadata": {},
   "outputs": [
    {
     "data": {
      "text/html": [
       "<div>\n",
       "<style scoped>\n",
       "    .dataframe tbody tr th:only-of-type {\n",
       "        vertical-align: middle;\n",
       "    }\n",
       "\n",
       "    .dataframe tbody tr th {\n",
       "        vertical-align: top;\n",
       "    }\n",
       "\n",
       "    .dataframe thead th {\n",
       "        text-align: right;\n",
       "    }\n",
       "</style>\n",
       "<table border=\"1\" class=\"dataframe\">\n",
       "  <thead>\n",
       "    <tr style=\"text-align: right;\">\n",
       "      <th></th>\n",
       "      <th>Invoice ID</th>\n",
       "      <th>Branch</th>\n",
       "      <th>city code</th>\n",
       "      <th>Customer type</th>\n",
       "      <th>Gender</th>\n",
       "      <th>Product code</th>\n",
       "      <th>Unit price</th>\n",
       "      <th>Quantity</th>\n",
       "      <th>Tax 5%</th>\n",
       "      <th>Total</th>\n",
       "      <th>Date</th>\n",
       "      <th>Time</th>\n",
       "      <th>Payment</th>\n",
       "      <th>cogs</th>\n",
       "      <th>gross margin percentage</th>\n",
       "      <th>gross income</th>\n",
       "      <th>Rating</th>\n",
       "      <th>Weekday</th>\n",
       "      <th>month</th>\n",
       "    </tr>\n",
       "  </thead>\n",
       "  <tbody>\n",
       "    <tr>\n",
       "      <th>0</th>\n",
       "      <td>750-67-8428</td>\n",
       "      <td>A</td>\n",
       "      <td>CT1</td>\n",
       "      <td>Member</td>\n",
       "      <td>Female</td>\n",
       "      <td>PD1</td>\n",
       "      <td>74.69</td>\n",
       "      <td>7</td>\n",
       "      <td>26.1415</td>\n",
       "      <td>548.9715</td>\n",
       "      <td>2019-01-05</td>\n",
       "      <td>13:08:00</td>\n",
       "      <td>Ewallet</td>\n",
       "      <td>522.83</td>\n",
       "      <td>4.761905</td>\n",
       "      <td>26.1415</td>\n",
       "      <td>9.1</td>\n",
       "      <td>Saturday</td>\n",
       "      <td>January</td>\n",
       "    </tr>\n",
       "    <tr>\n",
       "      <th>1</th>\n",
       "      <td>226-31-3081</td>\n",
       "      <td>C</td>\n",
       "      <td>CT3</td>\n",
       "      <td>Normal</td>\n",
       "      <td>Female</td>\n",
       "      <td>PD2</td>\n",
       "      <td>15.28</td>\n",
       "      <td>5</td>\n",
       "      <td>3.8200</td>\n",
       "      <td>80.2200</td>\n",
       "      <td>2019-03-08</td>\n",
       "      <td>10:29:00</td>\n",
       "      <td>Cash</td>\n",
       "      <td>76.40</td>\n",
       "      <td>4.761905</td>\n",
       "      <td>3.8200</td>\n",
       "      <td>9.6</td>\n",
       "      <td>Friday</td>\n",
       "      <td>March</td>\n",
       "    </tr>\n",
       "    <tr>\n",
       "      <th>2</th>\n",
       "      <td>631-41-3108</td>\n",
       "      <td>A</td>\n",
       "      <td>CT1</td>\n",
       "      <td>Normal</td>\n",
       "      <td>Male</td>\n",
       "      <td>PD3</td>\n",
       "      <td>46.33</td>\n",
       "      <td>7</td>\n",
       "      <td>16.2155</td>\n",
       "      <td>340.5255</td>\n",
       "      <td>2019-03-03</td>\n",
       "      <td>13:23:00</td>\n",
       "      <td>Credit card</td>\n",
       "      <td>324.31</td>\n",
       "      <td>4.761905</td>\n",
       "      <td>16.2155</td>\n",
       "      <td>7.4</td>\n",
       "      <td>Sunday</td>\n",
       "      <td>March</td>\n",
       "    </tr>\n",
       "    <tr>\n",
       "      <th>3</th>\n",
       "      <td>123-19-1176</td>\n",
       "      <td>A</td>\n",
       "      <td>CT1</td>\n",
       "      <td>Member</td>\n",
       "      <td>Male</td>\n",
       "      <td>PD1</td>\n",
       "      <td>58.22</td>\n",
       "      <td>8</td>\n",
       "      <td>23.2880</td>\n",
       "      <td>489.0480</td>\n",
       "      <td>2019-01-27</td>\n",
       "      <td>20:33:00</td>\n",
       "      <td>Ewallet</td>\n",
       "      <td>465.76</td>\n",
       "      <td>4.761905</td>\n",
       "      <td>23.2880</td>\n",
       "      <td>8.4</td>\n",
       "      <td>Sunday</td>\n",
       "      <td>January</td>\n",
       "    </tr>\n",
       "    <tr>\n",
       "      <th>4</th>\n",
       "      <td>373-73-7910</td>\n",
       "      <td>A</td>\n",
       "      <td>CT1</td>\n",
       "      <td>Normal</td>\n",
       "      <td>Male</td>\n",
       "      <td>PD4</td>\n",
       "      <td>86.31</td>\n",
       "      <td>7</td>\n",
       "      <td>30.2085</td>\n",
       "      <td>634.3785</td>\n",
       "      <td>2019-02-08</td>\n",
       "      <td>10:37:00</td>\n",
       "      <td>Ewallet</td>\n",
       "      <td>604.17</td>\n",
       "      <td>4.761905</td>\n",
       "      <td>30.2085</td>\n",
       "      <td>5.3</td>\n",
       "      <td>Friday</td>\n",
       "      <td>February</td>\n",
       "    </tr>\n",
       "  </tbody>\n",
       "</table>\n",
       "</div>"
      ],
      "text/plain": [
       "    Invoice ID Branch city code  Customer type  Gender Product code  Unit price  Quantity   Tax 5%     Total       Date      Time      Payment    cogs  gross margin percentage  gross income  Rating   Weekday     month\n",
       "0  750-67-8428      A        CT1        Member  Female          PD1       74.69         7  26.1415  548.9715 2019-01-05  13:08:00      Ewallet  522.83                 4.761905       26.1415     9.1  Saturday   January\n",
       "1  226-31-3081      C        CT3        Normal  Female          PD2       15.28         5   3.8200   80.2200 2019-03-08  10:29:00         Cash   76.40                 4.761905        3.8200     9.6    Friday     March\n",
       "2  631-41-3108      A        CT1        Normal    Male          PD3       46.33         7  16.2155  340.5255 2019-03-03  13:23:00  Credit card  324.31                 4.761905       16.2155     7.4    Sunday     March\n",
       "3  123-19-1176      A        CT1        Member    Male          PD1       58.22         8  23.2880  489.0480 2019-01-27  20:33:00      Ewallet  465.76                 4.761905       23.2880     8.4    Sunday   January\n",
       "4  373-73-7910      A        CT1        Normal    Male          PD4       86.31         7  30.2085  634.3785 2019-02-08  10:37:00      Ewallet  604.17                 4.761905       30.2085     5.3    Friday  February"
      ]
     },
     "execution_count": 55,
     "metadata": {},
     "output_type": "execute_result"
    }
   ],
   "source": [
    "df.head()"
   ]
  },
  {
   "cell_type": "code",
   "execution_count": 80,
   "metadata": {},
   "outputs": [
    {
     "data": {
      "text/plain": [
       "<AxesSubplot:xlabel='month,city code '>"
      ]
     },
     "execution_count": 80,
     "metadata": {},
     "output_type": "execute_result"
    },
    {
     "data": {
      "image/png": "[encoded data removed]",
      "text/plain": [
       "<Figure size 432x288 with 1 Axes>"
      ]
     },
     "metadata": {
      "needs_background": "light"
     },
     "output_type": "display_data"
    }
   ],
   "source": [
    "df[(df['month']=='January') | (df['month']=='February') & (df['Date']==2019)].groupby(['month','city code '])['Total'].sum().plot()"
   ]
  },
  {
   "cell_type": "markdown",
   "metadata": {},
   "source": [
    "- Naypyitaw"
   ]
  },
  {
   "cell_type": "markdown",
   "metadata": {},
   "source": [
    "#### •\tWhat is the % of total spending by Member customer type for the entire time period?\n",
    "1.\t25%\n",
    "2.\t50%\n",
    "3.\t75%\n",
    "4.\t90%\n"
   ]
  },
  {
   "cell_type": "code",
   "execution_count": 48,
   "metadata": {},
   "outputs": [
    {
     "data": {
      "text/plain": [
       "50.8484060691957"
      ]
     },
     "execution_count": 48,
     "metadata": {},
     "output_type": "execute_result"
    }
   ],
   "source": [
    "df[df['Customer type']=='Member']['Total'].sum()/df['Total'].sum()*100"
   ]
  },
  {
   "cell_type": "markdown",
   "metadata": {},
   "source": [
    "#### •\tWhich product line attracts more spending by women customers?\n",
    "1.\tHome and lifestyle\t\n",
    "2.\tHealth and beauty\n",
    "3.\tFood and beverages\n",
    "4.\tElectronic accessories\n"
   ]
  },
  {
   "cell_type": "code",
   "execution_count": 33,
   "metadata": {},
   "outputs": [
    {
     "data": {
      "text/html": [
       "<div>\n",
       "<style scoped>\n",
       "    .dataframe tbody tr th:only-of-type {\n",
       "        vertical-align: middle;\n",
       "    }\n",
       "\n",
       "    .dataframe tbody tr th {\n",
       "        vertical-align: top;\n",
       "    }\n",
       "\n",
       "    .dataframe thead th {\n",
       "        text-align: right;\n",
       "    }\n",
       "</style>\n",
       "<table border=\"1\" class=\"dataframe\">\n",
       "  <thead>\n",
       "    <tr style=\"text-align: right;\">\n",
       "      <th></th>\n",
       "      <th>Invoice ID</th>\n",
       "      <th>Branch</th>\n",
       "      <th>city code</th>\n",
       "      <th>Customer type</th>\n",
       "      <th>Gender</th>\n",
       "      <th>Product code</th>\n",
       "      <th>Unit price</th>\n",
       "      <th>Quantity</th>\n",
       "      <th>Tax 5%</th>\n",
       "      <th>Total</th>\n",
       "      <th>Date</th>\n",
       "      <th>Time</th>\n",
       "      <th>Payment</th>\n",
       "      <th>cogs</th>\n",
       "      <th>gross margin percentage</th>\n",
       "      <th>gross income</th>\n",
       "      <th>Rating</th>\n",
       "    </tr>\n",
       "  </thead>\n",
       "  <tbody>\n",
       "    <tr>\n",
       "      <th>0</th>\n",
       "      <td>750-67-8428</td>\n",
       "      <td>A</td>\n",
       "      <td>CT1</td>\n",
       "      <td>Member</td>\n",
       "      <td>Female</td>\n",
       "      <td>PD1</td>\n",
       "      <td>74.69</td>\n",
       "      <td>7</td>\n",
       "      <td>26.1415</td>\n",
       "      <td>548.9715</td>\n",
       "      <td>2019-01-05</td>\n",
       "      <td>13:08:00</td>\n",
       "      <td>Ewallet</td>\n",
       "      <td>522.83</td>\n",
       "      <td>4.761905</td>\n",
       "      <td>26.1415</td>\n",
       "      <td>9.1</td>\n",
       "    </tr>\n",
       "    <tr>\n",
       "      <th>1</th>\n",
       "      <td>226-31-3081</td>\n",
       "      <td>C</td>\n",
       "      <td>CT3</td>\n",
       "      <td>Normal</td>\n",
       "      <td>Female</td>\n",
       "      <td>PD2</td>\n",
       "      <td>15.28</td>\n",
       "      <td>5</td>\n",
       "      <td>3.8200</td>\n",
       "      <td>80.2200</td>\n",
       "      <td>2019-03-08</td>\n",
       "      <td>10:29:00</td>\n",
       "      <td>Cash</td>\n",
       "      <td>76.40</td>\n",
       "      <td>4.761905</td>\n",
       "      <td>3.8200</td>\n",
       "      <td>9.6</td>\n",
       "    </tr>\n",
       "  </tbody>\n",
       "</table>\n",
       "</div>"
      ],
      "text/plain": [
       "    Invoice ID Branch city code  Customer type  Gender Product code  Unit price  Quantity   Tax 5%     Total       Date      Time  Payment    cogs  gross margin percentage  gross income  Rating\n",
       "0  750-67-8428      A        CT1        Member  Female          PD1       74.69         7  26.1415  548.9715 2019-01-05  13:08:00  Ewallet  522.83                 4.761905       26.1415     9.1\n",
       "1  226-31-3081      C        CT3        Normal  Female          PD2       15.28         5   3.8200   80.2200 2019-03-08  10:29:00     Cash   76.40                 4.761905        3.8200     9.6"
      ]
     },
     "execution_count": 33,
     "metadata": {},
     "output_type": "execute_result"
    }
   ],
   "source": [
    "df.head(2)"
   ]
  },
  {
   "cell_type": "code",
   "execution_count": 34,
   "metadata": {},
   "outputs": [],
   "source": [
    "d=df[df['Gender']=='Female']"
   ]
  },
  {
   "cell_type": "code",
   "execution_count": 35,
   "metadata": {
    "scrolled": false
   },
   "outputs": [
    {
     "data": {
      "text/plain": [
       "Product code\n",
       "PD5    33170.9175\n",
       "PD6    30437.4000\n",
       "PD3    30036.8775\n",
       "PD4    28574.7210\n",
       "PD2    27102.0225\n",
       "PD1    18560.9865\n",
       "Name: Total, dtype: float64"
      ]
     },
     "execution_count": 35,
     "metadata": {},
     "output_type": "execute_result"
    }
   ],
   "source": [
    "d.groupby('Product code')['Total'].sum().sort_values(ascending=False)"
   ]
  },
  {
   "cell_type": "code",
   "execution_count": 36,
   "metadata": {},
   "outputs": [
    {
     "data": {
      "text/plain": [
       "<AxesSubplot:xlabel='Product code'>"
      ]
     },
     "execution_count": 36,
     "metadata": {},
     "output_type": "execute_result"
    },
    {
     "data": {
      "image/png": "[encoded data removed]",
      "text/plain": [
       "<Figure size 432x288 with 1 Axes>"
      ]
     },
     "metadata": {
      "needs_background": "light"
     },
     "output_type": "display_data"
    }
   ],
   "source": [
    "d.groupby('Product code')['Total'].sum().plot(kind='bar')"
   ]
  },
  {
   "cell_type": "markdown",
   "metadata": {},
   "source": [
    "- Food and beverages product line attracts more spending by women customer"
   ]
  },
  {
   "cell_type": "markdown",
   "metadata": {},
   "source": [
    "#### •\tWhich day of week saw a greatest number of male customers as compared to number of male customers on other days?\n",
    "1.\tMonday\n",
    "2.\tTuesday\n",
    "3.\tWednesday\n",
    "4.\tSunday\n"
   ]
  },
  {
   "cell_type": "code",
   "execution_count": 37,
   "metadata": {},
   "outputs": [],
   "source": [
    "df['Weekday']=df['Date'].dt.day_name()"
   ]
  },
  {
   "cell_type": "code",
   "execution_count": 38,
   "metadata": {},
   "outputs": [
    {
     "data": {
      "text/html": [
       "<div>\n",
       "<style scoped>\n",
       "    .dataframe tbody tr th:only-of-type {\n",
       "        vertical-align: middle;\n",
       "    }\n",
       "\n",
       "    .dataframe tbody tr th {\n",
       "        vertical-align: top;\n",
       "    }\n",
       "\n",
       "    .dataframe thead th {\n",
       "        text-align: right;\n",
       "    }\n",
       "</style>\n",
       "<table border=\"1\" class=\"dataframe\">\n",
       "  <thead>\n",
       "    <tr style=\"text-align: right;\">\n",
       "      <th></th>\n",
       "      <th>Invoice ID</th>\n",
       "      <th>Branch</th>\n",
       "      <th>city code</th>\n",
       "      <th>Customer type</th>\n",
       "      <th>Gender</th>\n",
       "      <th>Product code</th>\n",
       "      <th>Unit price</th>\n",
       "      <th>Quantity</th>\n",
       "      <th>Tax 5%</th>\n",
       "      <th>Total</th>\n",
       "      <th>Date</th>\n",
       "      <th>Time</th>\n",
       "      <th>Payment</th>\n",
       "      <th>cogs</th>\n",
       "      <th>gross margin percentage</th>\n",
       "      <th>gross income</th>\n",
       "      <th>Rating</th>\n",
       "      <th>Weekday</th>\n",
       "    </tr>\n",
       "  </thead>\n",
       "  <tbody>\n",
       "    <tr>\n",
       "      <th>0</th>\n",
       "      <td>750-67-8428</td>\n",
       "      <td>A</td>\n",
       "      <td>CT1</td>\n",
       "      <td>Member</td>\n",
       "      <td>Female</td>\n",
       "      <td>PD1</td>\n",
       "      <td>74.69</td>\n",
       "      <td>7</td>\n",
       "      <td>26.1415</td>\n",
       "      <td>548.9715</td>\n",
       "      <td>2019-01-05</td>\n",
       "      <td>13:08:00</td>\n",
       "      <td>Ewallet</td>\n",
       "      <td>522.83</td>\n",
       "      <td>4.761905</td>\n",
       "      <td>26.1415</td>\n",
       "      <td>9.1</td>\n",
       "      <td>Saturday</td>\n",
       "    </tr>\n",
       "    <tr>\n",
       "      <th>1</th>\n",
       "      <td>226-31-3081</td>\n",
       "      <td>C</td>\n",
       "      <td>CT3</td>\n",
       "      <td>Normal</td>\n",
       "      <td>Female</td>\n",
       "      <td>PD2</td>\n",
       "      <td>15.28</td>\n",
       "      <td>5</td>\n",
       "      <td>3.8200</td>\n",
       "      <td>80.2200</td>\n",
       "      <td>2019-03-08</td>\n",
       "      <td>10:29:00</td>\n",
       "      <td>Cash</td>\n",
       "      <td>76.40</td>\n",
       "      <td>4.761905</td>\n",
       "      <td>3.8200</td>\n",
       "      <td>9.6</td>\n",
       "      <td>Friday</td>\n",
       "    </tr>\n",
       "    <tr>\n",
       "      <th>2</th>\n",
       "      <td>631-41-3108</td>\n",
       "      <td>A</td>\n",
       "      <td>CT1</td>\n",
       "      <td>Normal</td>\n",
       "      <td>Male</td>\n",
       "      <td>PD3</td>\n",
       "      <td>46.33</td>\n",
       "      <td>7</td>\n",
       "      <td>16.2155</td>\n",
       "      <td>340.5255</td>\n",
       "      <td>2019-03-03</td>\n",
       "      <td>13:23:00</td>\n",
       "      <td>Credit card</td>\n",
       "      <td>324.31</td>\n",
       "      <td>4.761905</td>\n",
       "      <td>16.2155</td>\n",
       "      <td>7.4</td>\n",
       "      <td>Sunday</td>\n",
       "    </tr>\n",
       "    <tr>\n",
       "      <th>3</th>\n",
       "      <td>123-19-1176</td>\n",
       "      <td>A</td>\n",
       "      <td>CT1</td>\n",
       "      <td>Member</td>\n",
       "      <td>Male</td>\n",
       "      <td>PD1</td>\n",
       "      <td>58.22</td>\n",
       "      <td>8</td>\n",
       "      <td>23.2880</td>\n",
       "      <td>489.0480</td>\n",
       "      <td>2019-01-27</td>\n",
       "      <td>20:33:00</td>\n",
       "      <td>Ewallet</td>\n",
       "      <td>465.76</td>\n",
       "      <td>4.761905</td>\n",
       "      <td>23.2880</td>\n",
       "      <td>8.4</td>\n",
       "      <td>Sunday</td>\n",
       "    </tr>\n",
       "    <tr>\n",
       "      <th>4</th>\n",
       "      <td>373-73-7910</td>\n",
       "      <td>A</td>\n",
       "      <td>CT1</td>\n",
       "      <td>Normal</td>\n",
       "      <td>Male</td>\n",
       "      <td>PD4</td>\n",
       "      <td>86.31</td>\n",
       "      <td>7</td>\n",
       "      <td>30.2085</td>\n",
       "      <td>634.3785</td>\n",
       "      <td>2019-02-08</td>\n",
       "      <td>10:37:00</td>\n",
       "      <td>Ewallet</td>\n",
       "      <td>604.17</td>\n",
       "      <td>4.761905</td>\n",
       "      <td>30.2085</td>\n",
       "      <td>5.3</td>\n",
       "      <td>Friday</td>\n",
       "    </tr>\n",
       "  </tbody>\n",
       "</table>\n",
       "</div>"
      ],
      "text/plain": [
       "    Invoice ID Branch city code  Customer type  Gender Product code  Unit price  Quantity   Tax 5%     Total       Date      Time      Payment    cogs  gross margin percentage  gross income  Rating   Weekday\n",
       "0  750-67-8428      A        CT1        Member  Female          PD1       74.69         7  26.1415  548.9715 2019-01-05  13:08:00      Ewallet  522.83                 4.761905       26.1415     9.1  Saturday\n",
       "1  226-31-3081      C        CT3        Normal  Female          PD2       15.28         5   3.8200   80.2200 2019-03-08  10:29:00         Cash   76.40                 4.761905        3.8200     9.6    Friday\n",
       "2  631-41-3108      A        CT1        Normal    Male          PD3       46.33         7  16.2155  340.5255 2019-03-03  13:23:00  Credit card  324.31                 4.761905       16.2155     7.4    Sunday\n",
       "3  123-19-1176      A        CT1        Member    Male          PD1       58.22         8  23.2880  489.0480 2019-01-27  20:33:00      Ewallet  465.76                 4.761905       23.2880     8.4    Sunday\n",
       "4  373-73-7910      A        CT1        Normal    Male          PD4       86.31         7  30.2085  634.3785 2019-02-08  10:37:00      Ewallet  604.17                 4.761905       30.2085     5.3    Friday"
      ]
     },
     "execution_count": 38,
     "metadata": {},
     "output_type": "execute_result"
    }
   ],
   "source": [
    "df.head()"
   ]
  },
  {
   "cell_type": "code",
   "execution_count": 39,
   "metadata": {},
   "outputs": [
    {
     "data": {
      "text/plain": [
       "Wednesday    79\n",
       "Saturday     77\n",
       "Thursday     75\n",
       "Friday       74\n",
       "Tuesday      71\n",
       "Sunday       66\n",
       "Monday       57\n",
       "Name: Weekday, dtype: int64"
      ]
     },
     "execution_count": 39,
     "metadata": {},
     "output_type": "execute_result"
    }
   ],
   "source": [
    "df[df['Gender']=='Male']['Weekday'].value_counts()"
   ]
  },
  {
   "cell_type": "code",
   "execution_count": 40,
   "metadata": {},
   "outputs": [
    {
     "data": {
      "text/plain": [
       "Weekday    Gender\n",
       "Friday     Male      74\n",
       "           Female    65\n",
       "Monday     Female    68\n",
       "           Male      57\n",
       "Saturday   Female    87\n",
       "           Male      77\n",
       "Sunday     Female    67\n",
       "           Male      66\n",
       "Thursday   Male      75\n",
       "           Female    63\n",
       "Tuesday    Female    87\n",
       "           Male      71\n",
       "Wednesday  Male      79\n",
       "           Female    64\n",
       "Name: Gender, dtype: int64"
      ]
     },
     "execution_count": 40,
     "metadata": {},
     "output_type": "execute_result"
    }
   ],
   "source": [
    "df.groupby('Weekday')['Gender'].value_counts(ascending=False)"
   ]
  },
  {
   "cell_type": "markdown",
   "metadata": {},
   "source": [
    "- Wednesday"
   ]
  },
  {
   "cell_type": "markdown",
   "metadata": {},
   "source": [
    "#### •\tWhat is contribution of branch C of total sales?\n",
    "1.\t45%\n",
    "2.\t54%\n",
    "3.\t34%\n",
    "4.\t65%\n"
   ]
  },
  {
   "cell_type": "code",
   "execution_count": 41,
   "metadata": {
    "scrolled": true
   },
   "outputs": [
    {
     "data": {
      "text/html": [
       "<div>\n",
       "<style scoped>\n",
       "    .dataframe tbody tr th:only-of-type {\n",
       "        vertical-align: middle;\n",
       "    }\n",
       "\n",
       "    .dataframe tbody tr th {\n",
       "        vertical-align: top;\n",
       "    }\n",
       "\n",
       "    .dataframe thead th {\n",
       "        text-align: right;\n",
       "    }\n",
       "</style>\n",
       "<table border=\"1\" class=\"dataframe\">\n",
       "  <thead>\n",
       "    <tr style=\"text-align: right;\">\n",
       "      <th></th>\n",
       "      <th>Invoice ID</th>\n",
       "      <th>Branch</th>\n",
       "      <th>city code</th>\n",
       "      <th>Customer type</th>\n",
       "      <th>Gender</th>\n",
       "      <th>Product code</th>\n",
       "      <th>Unit price</th>\n",
       "      <th>Quantity</th>\n",
       "      <th>Tax 5%</th>\n",
       "      <th>Total</th>\n",
       "      <th>Date</th>\n",
       "      <th>Time</th>\n",
       "      <th>Payment</th>\n",
       "      <th>cogs</th>\n",
       "      <th>gross margin percentage</th>\n",
       "      <th>gross income</th>\n",
       "      <th>Rating</th>\n",
       "      <th>Weekday</th>\n",
       "    </tr>\n",
       "  </thead>\n",
       "  <tbody>\n",
       "    <tr>\n",
       "      <th>0</th>\n",
       "      <td>750-67-8428</td>\n",
       "      <td>A</td>\n",
       "      <td>CT1</td>\n",
       "      <td>Member</td>\n",
       "      <td>Female</td>\n",
       "      <td>PD1</td>\n",
       "      <td>74.69</td>\n",
       "      <td>7</td>\n",
       "      <td>26.1415</td>\n",
       "      <td>548.9715</td>\n",
       "      <td>2019-01-05</td>\n",
       "      <td>13:08:00</td>\n",
       "      <td>Ewallet</td>\n",
       "      <td>522.83</td>\n",
       "      <td>4.761905</td>\n",
       "      <td>26.1415</td>\n",
       "      <td>9.1</td>\n",
       "      <td>Saturday</td>\n",
       "    </tr>\n",
       "    <tr>\n",
       "      <th>1</th>\n",
       "      <td>226-31-3081</td>\n",
       "      <td>C</td>\n",
       "      <td>CT3</td>\n",
       "      <td>Normal</td>\n",
       "      <td>Female</td>\n",
       "      <td>PD2</td>\n",
       "      <td>15.28</td>\n",
       "      <td>5</td>\n",
       "      <td>3.8200</td>\n",
       "      <td>80.2200</td>\n",
       "      <td>2019-03-08</td>\n",
       "      <td>10:29:00</td>\n",
       "      <td>Cash</td>\n",
       "      <td>76.40</td>\n",
       "      <td>4.761905</td>\n",
       "      <td>3.8200</td>\n",
       "      <td>9.6</td>\n",
       "      <td>Friday</td>\n",
       "    </tr>\n",
       "  </tbody>\n",
       "</table>\n",
       "</div>"
      ],
      "text/plain": [
       "    Invoice ID Branch city code  Customer type  Gender Product code  Unit price  Quantity   Tax 5%     Total       Date      Time  Payment    cogs  gross margin percentage  gross income  Rating   Weekday\n",
       "0  750-67-8428      A        CT1        Member  Female          PD1       74.69         7  26.1415  548.9715 2019-01-05  13:08:00  Ewallet  522.83                 4.761905       26.1415     9.1  Saturday\n",
       "1  226-31-3081      C        CT3        Normal  Female          PD2       15.28         5   3.8200   80.2200 2019-03-08  10:29:00     Cash   76.40                 4.761905        3.8200     9.6    Friday"
      ]
     },
     "execution_count": 41,
     "metadata": {},
     "output_type": "execute_result"
    }
   ],
   "source": [
    "df.head(2)"
   ]
  },
  {
   "cell_type": "code",
   "execution_count": 42,
   "metadata": {},
   "outputs": [
    {
     "data": {
      "text/plain": [
       "34.23532200833467"
      ]
     },
     "execution_count": 42,
     "metadata": {},
     "output_type": "execute_result"
    }
   ],
   "source": [
    "df[df['Branch']=='C']['Total'].sum()/df['Total'].sum()*100"
   ]
  },
  {
   "cell_type": "markdown",
   "metadata": {},
   "source": [
    "#### •\tWhat would be the right strategy to handle invalid data points for Unit Price:\n",
    "1.\tRemove records as there are only few records\n",
    "2.\tImpute values with Mean/Median Unit Price for given product\n",
    "3.\tImpute values with unit price with Zero (0) since the data is imbalanced\n",
    "4.\tNone of the above\n"
   ]
  },
  {
   "cell_type": "markdown",
   "metadata": {},
   "source": [
    "- 2"
   ]
  },
  {
   "cell_type": "markdown",
   "metadata": {},
   "source": [
    "#### •\tFrom the Given data which of the following statement is True:\n",
    "1.\tOn an average Male buyers provide higher ratings\n",
    "2.\tOn an average Female buyers provide higher ratings\n",
    "3.\tThere is no significant difference in ratings by gender\n",
    "4.\tNone of the above\n"
   ]
  },
  {
   "cell_type": "code",
   "execution_count": 43,
   "metadata": {
    "scrolled": true
   },
   "outputs": [
    {
     "data": {
      "text/plain": [
       "Gender\n",
       "Female    501\n",
       "Male      499\n",
       "Name: Rating, dtype: int64"
      ]
     },
     "execution_count": 43,
     "metadata": {},
     "output_type": "execute_result"
    }
   ],
   "source": [
    "df.groupby('Gender')['Rating'].count()"
   ]
  },
  {
   "cell_type": "markdown",
   "metadata": {},
   "source": [
    "- 2"
   ]
  },
  {
   "cell_type": "markdown",
   "metadata": {},
   "source": [
    "#### •\tFrom the data what is the distribution of Rating?\n",
    "1.\tNormally distributed\n",
    "2.\tRight skewed\n",
    "3.\tLeft skewed\n",
    "4.\tBinomial distribution\n"
   ]
  },
  {
   "cell_type": "code",
   "execution_count": 44,
   "metadata": {
    "scrolled": true
   },
   "outputs": [
    {
     "data": {
      "image/png": "[encoded data removed]",
      "text/plain": [
       "<Figure size 432x288 with 1 Axes>"
      ]
     },
     "metadata": {
      "needs_background": "light"
     },
     "output_type": "display_data"
    }
   ],
   "source": [
    "sns.distplot(df['Rating'])\n",
    "plt.show()"
   ]
  },
  {
   "cell_type": "markdown",
   "metadata": {},
   "source": [
    "- 1"
   ]
  },
  {
   "cell_type": "markdown",
   "metadata": {},
   "source": [
    "#### •\tWhich of the following correlation will best describe relation between day of the week and mode of payment?\n",
    "1.\tPearson correlation coefficient\n",
    "2.\tBiserial correlation coefficient\n",
    "3.\tphi contingency coefficient\n",
    "4.\tSpearman's rank correlation coefficient\n"
   ]
  },
  {
   "cell_type": "markdown",
   "metadata": {},
   "source": [
    "- 2"
   ]
  },
  {
   "cell_type": "markdown",
   "metadata": {},
   "source": [
    "#### •\tWhat data preprocessing method is needed for Product code to train a machine learning algorithm\n",
    "1.\tOne- hot encoding\n",
    "2.\tLabel encoding\n",
    "3.\tDummy encoding\n",
    "4.\tEncoding is not needed\n"
   ]
  },
  {
   "cell_type": "code",
   "execution_count": 45,
   "metadata": {
    "scrolled": true
   },
   "outputs": [
    {
     "data": {
      "text/plain": [
       "PD6    178\n",
       "PD5    174\n",
       "PD2    170\n",
       "PD4    166\n",
       "PD3    160\n",
       "PD1    152\n",
       "Name: Product code, dtype: int64"
      ]
     },
     "execution_count": 45,
     "metadata": {},
     "output_type": "execute_result"
    }
   ],
   "source": [
    "df['Product code'].value_counts()"
   ]
  },
  {
   "cell_type": "markdown",
   "metadata": {},
   "source": [
    "- 3"
   ]
  },
  {
   "cell_type": "markdown",
   "metadata": {},
   "source": [
    "#### Stats Questions"
   ]
  },
  {
   "cell_type": "markdown",
   "metadata": {},
   "source": [
    "#### 1.\tIn a colony, there are 55 members. Every member posts a greeting card to all the members. How many greeting cards were posted by them?\n",
    "a) 990\n",
    "b) 890\n",
    "c) 2970\n",
    "d) 1980\n"
   ]
  },
  {
   "cell_type": "code",
   "execution_count": 46,
   "metadata": {},
   "outputs": [
    {
     "data": {
      "text/plain": [
       "2970"
      ]
     },
     "execution_count": 46,
     "metadata": {},
     "output_type": "execute_result"
    }
   ],
   "source": [
    "55*54"
   ]
  },
  {
   "cell_type": "markdown",
   "metadata": {},
   "source": [
    "#### 2.\tBlood test failing to detect the disease in a patient who really has the disease is what type of error?\n",
    "a)\tType 1 Error\n",
    "b)\tType 2 Error\n",
    "c)\tStandard Error\n",
    "d)\tSampling Error\n"
   ]
  },
  {
   "cell_type": "markdown",
   "metadata": {},
   "source": [
    "b. Type 2 error"
   ]
  },
  {
   "cell_type": "markdown",
   "metadata": {},
   "source": [
    "#### 3.\tFor a particular set of data, the mean is less than the median. Which of the following statements is most consistent with this information?\n",
    "a)\tThe distribution of the data is skewed to the right\n",
    "b)\tThe distribution of the data is skewed to the left\n",
    "c)\tThe distribution of the data is symmetric\n",
    "d)\t\"mean is less "
   ]
  },
  {
   "cell_type": "markdown",
   "metadata": {},
   "source": [
    "b.The distribution of the data is skewed to the left"
   ]
  },
  {
   "cell_type": "markdown",
   "metadata": {},
   "source": [
    "#### 4.\tWhich of the following is true about the adjusted R2?\n",
    "a)\tIt is usually larger than the R2\n",
    "b)\tIt is only used when there is just one predictor\n",
    "c)\tIt is usually smaller than the R2\n",
    "d)\tIt is used to determine whether residuals are normally distributed\n"
   ]
  },
  {
   "cell_type": "markdown",
   "metadata": {},
   "source": [
    "c) It is usually smaller than the R2"
   ]
  }
 ],
 "metadata": {
  "kernelspec": {
   "display_name": "Python 3",
   "language": "python",
   "name": "python3"
  },
  "language_info": {
   "codemirror_mode": {
    "name": "ipython",
    "version": 3
   },
   "file_extension": ".py",
   "mimetype": "text/x-python",
   "name": "python",
   "nbconvert_exporter": "python",
   "pygments_lexer": "ipython3",
   "version": "3.7.6"
  }
 },
 "nbformat": 4,
 "nbformat_minor": 4
}
